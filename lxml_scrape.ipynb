{
 "cells": [
  {
   "cell_type": "code",
   "execution_count": 4,
   "metadata": {},
   "outputs": [],
   "source": [
    "# lxml_scrape\n",
    "# blocket.se\n",
    "import lxml.html"
   ]
  },
  {
   "cell_type": "code",
   "execution_count": 5,
   "metadata": {
    "collapsed": true
   },
   "outputs": [],
   "source": [
    "page = lxml.html.parse('http://www.blocket.se/stockholm?q=apple')"
   ]
  },
  {
   "cell_type": "code",
   "execution_count": 16,
   "metadata": {},
   "outputs": [
    {
     "name": "stdout",
     "output_type": "stream",
     "text": [
      "[{'name': '65\" FullHD oanvänd inkl Apple TV', 'image': 'https://cdn.blocket.com/static/1/lithumbs/71/7101496801.jpg'}, {'name': 'Iphone 7 32GB / Iphone 6S plus 128GB', 'image': 'https://cdn.blocket.com/static/0/lithumbs/72/7262678796.jpg'}, {'name': 'IPhone 6S Plus 128 GB Svart Olåst', 'image': 'https://cdn.blocket.com/static/1/lithumbs/56/5665025668.jpg'}, {'name': 'IMac 27\" i toppskick | 3.2GHz | 1TB | Fynda', 'image': 'https://cdn.blocket.com/static/2/lithumbs/72/7284592373.jpg'}, {'name': 'Ipad air 2', 'image': 'https://cdn.blocket.com/static/2/lithumbs/72/7260579427.jpg'}, {'name': 'Apple Tv - 3:Gen', 'image': 'https://cdn.blocket.com/static/1/lithumbs/72/7260440221.jpg'}, {'name': 'Citroën C4 Grand Picasso 120HK AUT6 FEEL *TJÄ -17', 'image': 'https://cdn.blocket.com/static/0/lithumbs/72/7221029410.jpg'}, {'name': 'Citroën C4 Grand Picasso 120HK AUT6 FEEL *TJÄ -17', 'image': 'https://cdn.blocket.com/static/2/lithumbs/72/7278904664.jpg'}, {'name': 'Citroën C3 110HK AUT6 FEEL LAGERBIL -18', 'image': 'https://cdn.blocket.com/static/0/lithumbs/72/7242427416.jpg'}]\n"
     ]
    }
   ],
   "source": [
    "items_data =[]\n",
    "for el in page.getroot().find_class(\"item_row\"):\n",
    "    links = el.find_class(\"item_link\")\n",
    "    images = el.find_class(\"item_image\")\n",
    "    if links and images:\n",
    "        items_data.append({\"name\": links[0].text,\"image\": images[0].attrib['src']})\n",
    "    \n",
    "print(items_data)"
   ]
  },
  {
   "cell_type": "code",
   "execution_count": 18,
   "metadata": {},
   "outputs": [
    {
     "data": {
      "text/plain": [
       "[{'image': 'https://cdn.blocket.com/static/1/lithumbs/71/7101496801.jpg',\n",
       "  'name': '65\" FullHD oanvänd inkl Apple TV'},\n",
       " {'image': 'https://cdn.blocket.com/static/0/lithumbs/72/7262678796.jpg',\n",
       "  'name': 'Iphone 7 32GB / Iphone 6S plus 128GB'},\n",
       " {'image': 'https://cdn.blocket.com/static/1/lithumbs/56/5665025668.jpg',\n",
       "  'name': 'IPhone 6S Plus 128 GB Svart Olåst'},\n",
       " {'image': 'https://cdn.blocket.com/static/2/lithumbs/72/7284592373.jpg',\n",
       "  'name': 'IMac 27\" i toppskick | 3.2GHz | 1TB | Fynda'},\n",
       " {'image': 'https://cdn.blocket.com/static/2/lithumbs/72/7260579427.jpg',\n",
       "  'name': 'Ipad air 2'},\n",
       " {'image': 'https://cdn.blocket.com/static/1/lithumbs/72/7260440221.jpg',\n",
       "  'name': 'Apple Tv - 3:Gen'},\n",
       " {'image': 'https://cdn.blocket.com/static/0/lithumbs/72/7221029410.jpg',\n",
       "  'name': 'Citroën C4 Grand Picasso 120HK AUT6 FEEL *TJÄ -17'},\n",
       " {'image': 'https://cdn.blocket.com/static/2/lithumbs/72/7278904664.jpg',\n",
       "  'name': 'Citroën C4 Grand Picasso 120HK AUT6 FEEL *TJÄ -17'},\n",
       " {'image': 'https://cdn.blocket.com/static/0/lithumbs/72/7242427416.jpg',\n",
       "  'name': 'Citroën C3 110HK AUT6 FEEL LAGERBIL -18'}]"
      ]
     },
     "execution_count": 18,
     "metadata": {},
     "output_type": "execute_result"
    }
   ],
   "source": [
    "items_data"
   ]
  },
  {
   "cell_type": "code",
   "execution_count": null,
   "metadata": {
    "collapsed": true
   },
   "outputs": [],
   "source": []
  }
 ],
 "metadata": {
  "kernelspec": {
   "display_name": "Python 3",
   "language": "python",
   "name": "python3"
  },
  "language_info": {
   "codemirror_mode": {
    "name": "ipython",
    "version": 3
   },
   "file_extension": ".py",
   "mimetype": "text/x-python",
   "name": "python",
   "nbconvert_exporter": "python",
   "pygments_lexer": "ipython3",
   "version": "3.6.3"
  }
 },
 "nbformat": 4,
 "nbformat_minor": 2
}
