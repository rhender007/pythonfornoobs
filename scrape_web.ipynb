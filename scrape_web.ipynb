{
 "cells": [
  {
   "cell_type": "code",
   "execution_count": 1,
   "metadata": {
    "collapsed": true
   },
   "outputs": [],
   "source": [
    "# import libraries\n",
    "import os\n",
    "from bs4 import BeautifulSoup\n",
    "from urllib.request import urlopen, urlretrieve\n",
    "import zipfile\n",
    "import glob"
   ]
  },
  {
   "cell_type": "code",
   "execution_count": 14,
   "metadata": {},
   "outputs": [],
   "source": [
    "\"\"\"Gets zip files from URL and downloads into OUTPUT_DIR\"\"\"\n",
    "def get_zip_files(URL, OUTPUT_DIR):\n",
    "    # open url\n",
    "    u = urlopen(URL)\n",
    "    soup = BeautifulSoup(u.read(),'html.parser')\n",
    "    \n",
    "    # find and retrieve all relevant links\n",
    "    for link in soup.find_all('a'):\n",
    "        href = link.get('href')\n",
    "        try:\n",
    "            if(href.startswith('CSVs') and href.endswith('.zip')):\n",
    "                link = 'https://exporter.nih.gov/'+ href\n",
    "                filename = os.path.join(OUTPUT_DIR, link.rsplit('/', 1)[-1])\n",
    "                urlretrieve(link, filename)\n",
    "        except AttributeError:\n",
    "                continue"
   ]
  },
  {
   "cell_type": "code",
   "execution_count": 15,
   "metadata": {},
   "outputs": [],
   "source": [
    "def unzip_files(directory):\n",
    "    filelist = glob.glob(directory + '*.zip')\n",
    "    for file in filelist:\n",
    "        with zipfile.ZipFile(file,mode='r') as zip_ref:\n",
    "            zip_ref.extractall(path=directory)\n",
    "            zip_ref.close()"
   ]
  },
  {
   "cell_type": "code",
   "execution_count": 16,
   "metadata": {},
   "outputs": [],
   "source": [
    "urlVal='https://exporter.nih.gov/ExPORTER_Catalog.aspx?sid=1&index=0'\n",
    "localFolder = './abstracts/'\n",
    "get_zips = get_zip_files(urlVal, localFolder)"
   ]
  },
  {
   "cell_type": "code",
   "execution_count": null,
   "metadata": {
    "collapsed": true
   },
   "outputs": [],
   "source": []
  }
 ],
 "metadata": {
  "kernelspec": {
   "display_name": "Python 3",
   "language": "python",
   "name": "python3"
  },
  "language_info": {
   "codemirror_mode": {
    "name": "ipython",
    "version": 3
   },
   "file_extension": ".py",
   "mimetype": "text/x-python",
   "name": "python",
   "nbconvert_exporter": "python",
   "pygments_lexer": "ipython3",
   "version": "3.6.3"
  }
 },
 "nbformat": 4,
 "nbformat_minor": 2
}
