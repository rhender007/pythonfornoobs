{
 "cells": [
  {
   "cell_type": "code",
   "execution_count": 2,
   "metadata": {},
   "outputs": [
    {
     "data": {
      "text/plain": [
       "\"\\nBinary Search\\nInstead of searching the list in sequence, a binary search\\nwill start by examining the middle item. If that item is the one\\nwe are searching for, we are done. If it is not correct item, we\\ncan use the ordered nature of the list to eliminate half the\\nremaining items. If the item we are searching for is greater than\\nthe middle item, we know that the entire lower half of the list\\nas well as the middle item can be eliminated from further\\nconsideration. If it's in the list, it must be in the upper half.\\n\""
      ]
     },
     "execution_count": 2,
     "metadata": {},
     "output_type": "execute_result"
    }
   ],
   "source": [
    "'''\n",
    "Binary Search\n",
    "Instead of searching the list in sequence, a binary search\n",
    "will start by examining the middle item. If that item is the one\n",
    "we are searching for, we are done. If it is not correct item, we\n",
    "can use the ordered nature of the list to eliminate half the\n",
    "remaining items. If the item we are searching for is greater than\n",
    "the middle item, we know that the entire lower half of the list\n",
    "as well as the middle item can be eliminated from further\n",
    "consideration. If it's in the list, it must be in the upper half.\n",
    "'''\n",
    "\n"
   ]
  },
  {
   "cell_type": "code",
   "execution_count": 12,
   "metadata": {},
   "outputs": [],
   "source": [
    "def binary_search(alist,item):\n",
    "    first = 0\n",
    "    last = len(alist)-1\n",
    "    found = False\n",
    "    while(first <=last and not found):\n",
    "        midpt = (first+last)//2\n",
    "        if(alist[midpt] == item):\n",
    "            found = True\n",
    "        else:\n",
    "            if(item < alist[midpt]):\n",
    "                last = midpt - 1\n",
    "            else:\n",
    "                first = midpt + 1\n",
    "    return found       "
   ]
  },
  {
   "cell_type": "code",
   "execution_count": 17,
   "metadata": {},
   "outputs": [
    {
     "data": {
      "text/plain": [
       "{2, 4, 5, 6, 8, 93}"
      ]
     },
     "execution_count": 17,
     "metadata": {},
     "output_type": "execute_result"
    }
   ],
   "source": [
    "mylist = set([4,5,6,8,93,2]) # set is sorted\n",
    "mylist"
   ]
  },
  {
   "cell_type": "code",
   "execution_count": 16,
   "metadata": {},
   "outputs": [
    {
     "name": "stdout",
     "output_type": "stream",
     "text": [
      "True\n"
     ]
    }
   ],
   "source": [
    "print(binary_search(list(mylist),5))"
   ]
  },
  {
   "cell_type": "code",
   "execution_count": null,
   "metadata": {
    "collapsed": true
   },
   "outputs": [],
   "source": []
  }
 ],
 "metadata": {
  "kernelspec": {
   "display_name": "Python 3",
   "language": "python",
   "name": "python3"
  },
  "language_info": {
   "codemirror_mode": {
    "name": "ipython",
    "version": 3
   },
   "file_extension": ".py",
   "mimetype": "text/x-python",
   "name": "python",
   "nbconvert_exporter": "python",
   "pygments_lexer": "ipython3",
   "version": "3.6.3"
  }
 },
 "nbformat": 4,
 "nbformat_minor": 2
}
